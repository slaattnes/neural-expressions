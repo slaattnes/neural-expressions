{
 "cells": [
  {
   "cell_type": "markdown",
   "id": "a8d09fcd",
   "metadata": {},
   "source": []
  },
  {
   "cell_type": "markdown",
   "id": "16a5729a",
   "metadata": {},
   "source": [
    "2021-11-30, Daniel & Creature\n",
    "\n",
    "The Morris water maze [1](#1)\n",
    "\n",
    "The task is a test widely used and established by behavioral physiologist and pharmacologist to evaluate and compare learning and memory in rodents. It is based on the subject's aversion to an environment. The creature is programmed to evade water. The apparatus consists of a water-filled pool with a hidden escape platform beneath the surface of the water. When the creature's body enter the water, it will move around the pool to look for an escape from the water, which of the platform supply. The spatial memory is separately assessed in a probe trial without the platform. \n",
    "\n",
    "Setup Diagram:\n",
    "\n",
    "<img src=\"http://www.scholarpedia.org/w/images/7/76/Fig1_Morris_watermaze.jpg\" alt=\"Richard G.M. Morris (2008), Scholarpedia, 3(8):6315.\" />\n",
    "\n",
    "Connection Diagram:\n",
    "\n",
    "[2](#2)\n",
    "<img src=\"img/FigIMECE2011-63482.png\" alt=\"DOI: 10.1115/IMECE2011-63482\" />\n",
    "\n",
    "Dimention-of-freedom layout\n",
    "Circuit layout\n",
    "\n",
    "\n",
    "Settings Diagram:\n",
    "\n",
    "Space-Time Pattern Mining, Spatial Deep Learning [3](#3)\n",
    "<img src=\"img/FigAnalyticsvidhya.com_blog_2021_03_3D_Cuboid.jpg\" ait=\"Space-Time Pattern Mining\" />\n",
    "\n",
    "Clusters of spatial and temporal data is illustrated as 3-dimensional cuboid. The x and y-axis represent the spatial dimension and the z-axis is the time-series dimension. Each bin has a value.\n",
    "\n",
    "<a href=\"https://developers.arcgis.com/python/sample-notebooks/train-a-tensorflow-lite-model-for-identifying-plant-species/\">ArcGIS API</a>\n",
    "\n",
    "Network layout, save all test-case epochs\n",
    "\n",
    "\n",
    "Procedures and raw data:\n",
    "\n",
    "<a href=\"https://github.com/VeritasYin/STGCN_IJCAI-18/blob/master/models/base_model.py\">Spatio-Temporal Graph Convolutional Network (STGCN)</a>\n",
    "Save all datapoints\n",
    "\n",
    "Analysis:"
   ]
  },
  {
   "cell_type": "markdown",
   "id": "6c037fd8",
   "metadata": {},
   "source": [
    "References:\n",
    "\n",
    "##### 1 \n",
    "\n",
    "<a href=\"http://www.scholarpedia.org/article/Morris_water_maze\">Richard G.M. Morris (2008), Scholarpedia, 3(8):6315.</a>\n",
    "    \n",
    "##### 2\n",
    "\n",
    "<a href=\"https://www.researchgate.net/publication/267593704_Design_and_Analysis_of_a_Biomimetic_Wire-Driven_Robot_Arm\">Design and Analysis of a Biomimetic Wire-Driven Robot Arm (2011), Researchgate, DOI: 10.1115/IMECE2011-63482</a>\n",
    "\n",
    "##### 3\n",
    "\n",
    "<a href=\"https://www.analyticsvidhya.com/blog/2021/03/introducing-machine-learning-for-spatial-data-analysis/\">Spatially constrained multivariate clustering</a>"
   ]
  },
  {
   "cell_type": "markdown",
   "id": "9be685ab",
   "metadata": {},
   "source": [
    "Y Maze\n",
    "\n",
    "The Y maze is widely used to assess behavioral task in preclinical research for studying spatial learning and memory. On one hand, the spontaneous alteration test is used to assess hippocampal damage, quantify the cognitive deficits in transgenic mice, and evaluate the effects of drugs on cognition. On the other hand, the recognition memory test is used to test memory functions in mice. \n",
    "\n",
    "Spontaneous alternation and recognition memory\n",
    "\n"
   ]
  }
 ],
 "metadata": {
  "kernelspec": {
   "display_name": "Python 3 (ipykernel)",
   "language": "python",
   "name": "python3"
  },
  "language_info": {
   "codemirror_mode": {
    "name": "ipython",
    "version": 3
   },
   "file_extension": ".py",
   "mimetype": "text/x-python",
   "name": "python",
   "nbconvert_exporter": "python",
   "pygments_lexer": "ipython3",
   "version": "3.8.11"
  }
 },
 "nbformat": 4,
 "nbformat_minor": 5
}
